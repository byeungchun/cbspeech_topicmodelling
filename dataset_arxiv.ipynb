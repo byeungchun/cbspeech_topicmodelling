{
 "cells": [
  {
   "cell_type": "code",
   "execution_count": 11,
   "metadata": {},
   "outputs": [],
   "source": [
    "import json\n",
    "import urllib, urllib.request\n",
    "import pandas as pd\n",
    "from bs4 import BeautifulSoup"
   ]
  },
  {
   "cell_type": "code",
   "execution_count": 2,
   "metadata": {},
   "outputs": [],
   "source": [
    "# url = 'http://export.arxiv.org/api/query?search_query=all:electron&start=0&max_results=1'\n",
    "url = 'http://export.arxiv.org/api/query?search_query=cat:q-bio.GN&start=0&max_results=1000'\n",
    "data = urllib.request.urlopen(url)\n",
    "data = data.read().decode('utf-8')"
   ]
  },
  {
   "cell_type": "code",
   "execution_count": 3,
   "metadata": {},
   "outputs": [],
   "source": [
    "soup = BeautifulSoup(data, 'xml')\n",
    "entries = soup.find_all('entry')"
   ]
  },
  {
   "cell_type": "code",
   "execution_count": 4,
   "metadata": {},
   "outputs": [],
   "source": [
    "cols = ['id','published','title','summary']\n",
    "\n",
    "resobjs = []\n",
    "for entry in entries:\n",
    "    resobj = {}\n",
    "    for rec in entry:\n",
    "        if rec.name in cols:\n",
    "            resobj[rec.name] = rec.text\n",
    "    resobjs.append(resobj)\n"
   ]
  },
  {
   "cell_type": "code",
   "execution_count": 6,
   "metadata": {},
   "outputs": [],
   "source": [
    "df = pd.DataFrame(resobjs).sort_values('published')"
   ]
  },
  {
   "cell_type": "code",
   "execution_count": 7,
   "metadata": {},
   "outputs": [
    {
     "data": {
      "text/html": [
       "<div>\n",
       "<style scoped>\n",
       "    .dataframe tbody tr th:only-of-type {\n",
       "        vertical-align: middle;\n",
       "    }\n",
       "\n",
       "    .dataframe tbody tr th {\n",
       "        vertical-align: top;\n",
       "    }\n",
       "\n",
       "    .dataframe thead th {\n",
       "        text-align: right;\n",
       "    }\n",
       "</style>\n",
       "<table border=\"1\" class=\"dataframe\">\n",
       "  <thead>\n",
       "    <tr style=\"text-align: right;\">\n",
       "      <th></th>\n",
       "      <th>id</th>\n",
       "      <th>published</th>\n",
       "      <th>title</th>\n",
       "      <th>summary</th>\n",
       "    </tr>\n",
       "  </thead>\n",
       "  <tbody>\n",
       "    <tr>\n",
       "      <th>864</th>\n",
       "      <td>http://arxiv.org/abs/cond-mat/9601043v1</td>\n",
       "      <td>1996-01-12T19:47:57Z</td>\n",
       "      <td>A Growth model for DNA evolution</td>\n",
       "      <td>A simple growth model for DNA evolution is i...</td>\n",
       "    </tr>\n",
       "    <tr>\n",
       "      <th>878</th>\n",
       "      <td>http://arxiv.org/abs/physics/0006062v1</td>\n",
       "      <td>2000-06-23T23:40:22Z</td>\n",
       "      <td>Symmetry Analysis Of Genetic Code And Determin...</td>\n",
       "      <td>A three-dimensional model of the genetic voc...</td>\n",
       "    </tr>\n",
       "    <tr>\n",
       "      <th>879</th>\n",
       "      <td>http://arxiv.org/abs/physics/0108016v1</td>\n",
       "      <td>2001-08-10T16:08:11Z</td>\n",
       "      <td>Self-organizing Approach for Automated Gene Id...</td>\n",
       "      <td>An approach based on using the idea of disti...</td>\n",
       "    </tr>\n",
       "    <tr>\n",
       "      <th>865</th>\n",
       "      <td>http://arxiv.org/abs/cond-mat/0204044v1</td>\n",
       "      <td>2002-04-02T10:19:50Z</td>\n",
       "      <td>On the Hypercube Structure of the Genetic Code</td>\n",
       "      <td>A representation of the genetic code as a si...</td>\n",
       "    </tr>\n",
       "    <tr>\n",
       "      <th>866</th>\n",
       "      <td>http://arxiv.org/abs/cond-mat/0204045v1</td>\n",
       "      <td>2002-04-02T10:53:50Z</td>\n",
       "      <td>Entropy, Transinformation and Word Distributio...</td>\n",
       "      <td>We investigate correlations in information c...</td>\n",
       "    </tr>\n",
       "  </tbody>\n",
       "</table>\n",
       "</div>"
      ],
      "text/plain": [
       "                                          id             published  \\\n",
       "864  http://arxiv.org/abs/cond-mat/9601043v1  1996-01-12T19:47:57Z   \n",
       "878   http://arxiv.org/abs/physics/0006062v1  2000-06-23T23:40:22Z   \n",
       "879   http://arxiv.org/abs/physics/0108016v1  2001-08-10T16:08:11Z   \n",
       "865  http://arxiv.org/abs/cond-mat/0204044v1  2002-04-02T10:19:50Z   \n",
       "866  http://arxiv.org/abs/cond-mat/0204045v1  2002-04-02T10:53:50Z   \n",
       "\n",
       "                                                 title  \\\n",
       "864                   A Growth model for DNA evolution   \n",
       "878  Symmetry Analysis Of Genetic Code And Determin...   \n",
       "879  Self-organizing Approach for Automated Gene Id...   \n",
       "865     On the Hypercube Structure of the Genetic Code   \n",
       "866  Entropy, Transinformation and Word Distributio...   \n",
       "\n",
       "                                               summary  \n",
       "864    A simple growth model for DNA evolution is i...  \n",
       "878    A three-dimensional model of the genetic voc...  \n",
       "879    An approach based on using the idea of disti...  \n",
       "865    A representation of the genetic code as a si...  \n",
       "866    We investigate correlations in information c...  "
      ]
     },
     "execution_count": 7,
     "metadata": {},
     "output_type": "execute_result"
    }
   ],
   "source": [
    "df.head()"
   ]
  },
  {
   "cell_type": "code",
   "execution_count": 9,
   "metadata": {},
   "outputs": [],
   "source": [
    "df['year'] = pd.to_datetime(df['published']).dt.year"
   ]
  },
  {
   "cell_type": "code",
   "execution_count": 12,
   "metadata": {},
   "outputs": [],
   "source": [
    "json.dump(df[['year','title','summary']].to_dict('records'), open('arxiv.json', 'wt', encoding='utf-8'), indent=2)"
   ]
  },
  {
   "cell_type": "code",
   "execution_count": null,
   "metadata": {},
   "outputs": [],
   "source": []
  }
 ],
 "metadata": {
  "kernelspec": {
   "display_name": "notebook",
   "language": "python",
   "name": "python3"
  },
  "language_info": {
   "codemirror_mode": {
    "name": "ipython",
    "version": 3
   },
   "file_extension": ".py",
   "mimetype": "text/x-python",
   "name": "python",
   "nbconvert_exporter": "python",
   "pygments_lexer": "ipython3",
   "version": "3.11.2"
  }
 },
 "nbformat": 4,
 "nbformat_minor": 2
}
