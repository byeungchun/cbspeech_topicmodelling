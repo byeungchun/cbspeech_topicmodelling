{
 "cells": [
  {
   "cell_type": "code",
   "execution_count": 17,
   "metadata": {},
   "outputs": [],
   "source": [
    "import json\n",
    "import wikipediaapi # pip install wikipedia-api\n",
    "import pandas as pd"
   ]
  },
  {
   "cell_type": "code",
   "execution_count": 18,
   "metadata": {},
   "outputs": [],
   "source": [
    "wiki = wikipediaapi.Wikipedia('RandomScrapper', 'en')"
   ]
  },
  {
   "cell_type": "code",
   "execution_count": 8,
   "metadata": {},
   "outputs": [],
   "source": [
    "# Generate ten page titles randomly to scrap from wikipedia. Titles should be various topics.\n",
    "titles = [\n",
    "    'Bank for International Settlements',\n",
    "    'United States',\n",
    "    'Machine Learning',\n",
    "    'Data Science',\n",
    "    'Artificial Intelligence',\n",
    "    'Global financial system',\n",
    "    'Financial crisis',\n",
    "    'Travel',\n",
    "    'Economics',\n",
    "    'Marathon'\n",
    "]"
   ]
  },
  {
   "cell_type": "code",
   "execution_count": 11,
   "metadata": {},
   "outputs": [],
   "source": [
    "# scrap text from wikipedia for each title\n",
    "texts = []\n",
    "for title in titles:\n",
    "    page = wiki.page(title)\n",
    "    if page.exists():\n",
    "        texts.append(\n",
    "            {'title': title, 'text': page.text, 'url': page.fullurl}\n",
    "        )\n",
    "    else:\n",
    "        print(f'{title} does not exist on wikipedia')"
   ]
  },
  {
   "cell_type": "code",
   "execution_count": 13,
   "metadata": {},
   "outputs": [],
   "source": [
    "df = pd.DataFrame(texts)"
   ]
  },
  {
   "cell_type": "code",
   "execution_count": 20,
   "metadata": {},
   "outputs": [
    {
     "data": {
      "text/html": [
       "<div>\n",
       "<style scoped>\n",
       "    .dataframe tbody tr th:only-of-type {\n",
       "        vertical-align: middle;\n",
       "    }\n",
       "\n",
       "    .dataframe tbody tr th {\n",
       "        vertical-align: top;\n",
       "    }\n",
       "\n",
       "    .dataframe thead th {\n",
       "        text-align: right;\n",
       "    }\n",
       "</style>\n",
       "<table border=\"1\" class=\"dataframe\">\n",
       "  <thead>\n",
       "    <tr style=\"text-align: right;\">\n",
       "      <th></th>\n",
       "      <th>title</th>\n",
       "      <th>text</th>\n",
       "      <th>url</th>\n",
       "    </tr>\n",
       "  </thead>\n",
       "  <tbody>\n",
       "    <tr>\n",
       "      <th>0</th>\n",
       "      <td>Bank for International Settlements</td>\n",
       "      <td>The Bank for International Settlements (BIS) i...</td>\n",
       "      <td>https://en.wikipedia.org/wiki/Bank_for_Interna...</td>\n",
       "    </tr>\n",
       "    <tr>\n",
       "      <th>1</th>\n",
       "      <td>United States</td>\n",
       "      <td>The United States of America (USA), commonly k...</td>\n",
       "      <td>https://en.wikipedia.org/wiki/United_States</td>\n",
       "    </tr>\n",
       "    <tr>\n",
       "      <th>2</th>\n",
       "      <td>Machine Learning</td>\n",
       "      <td>Machine learning (ML) is a field of study in a...</td>\n",
       "      <td>https://en.wikipedia.org/wiki/Machine_learning</td>\n",
       "    </tr>\n",
       "    <tr>\n",
       "      <th>3</th>\n",
       "      <td>Data Science</td>\n",
       "      <td>Data science is an interdisciplinary academic ...</td>\n",
       "      <td>https://en.wikipedia.org/wiki/Data_science</td>\n",
       "    </tr>\n",
       "    <tr>\n",
       "      <th>4</th>\n",
       "      <td>Artificial Intelligence</td>\n",
       "      <td>Artificial intelligence (AI), in its broadest ...</td>\n",
       "      <td>https://en.wikipedia.org/wiki/Artificial_intel...</td>\n",
       "    </tr>\n",
       "  </tbody>\n",
       "</table>\n",
       "</div>"
      ],
      "text/plain": [
       "                                title  \\\n",
       "0  Bank for International Settlements   \n",
       "1                       United States   \n",
       "2                    Machine Learning   \n",
       "3                        Data Science   \n",
       "4             Artificial Intelligence   \n",
       "\n",
       "                                                text  \\\n",
       "0  The Bank for International Settlements (BIS) i...   \n",
       "1  The United States of America (USA), commonly k...   \n",
       "2  Machine learning (ML) is a field of study in a...   \n",
       "3  Data science is an interdisciplinary academic ...   \n",
       "4  Artificial intelligence (AI), in its broadest ...   \n",
       "\n",
       "                                                 url  \n",
       "0  https://en.wikipedia.org/wiki/Bank_for_Interna...  \n",
       "1        https://en.wikipedia.org/wiki/United_States  \n",
       "2     https://en.wikipedia.org/wiki/Machine_learning  \n",
       "3         https://en.wikipedia.org/wiki/Data_science  \n",
       "4  https://en.wikipedia.org/wiki/Artificial_intel...  "
      ]
     },
     "execution_count": 20,
     "metadata": {},
     "output_type": "execute_result"
    }
   ],
   "source": [
    "df.head()"
   ]
  },
  {
   "cell_type": "code",
   "execution_count": 15,
   "metadata": {},
   "outputs": [
    {
     "data": {
      "text/plain": [
       "<Axes: title={'center': 'Number of words in each article'}>"
      ]
     },
     "execution_count": 15,
     "metadata": {},
     "output_type": "execute_result"
    },
    {
     "data": {
      "image/png": "[encoded data removed]",
      "text/plain": [
       "<Figure size 640x480 with 1 Axes>"
      ]
     },
     "metadata": {},
     "output_type": "display_data"
    }
   ],
   "source": [
    "df.text.apply(lambda x: len(x.split())).plot(kind='bar', title='Number of words in each article')"
   ]
  },
  {
   "cell_type": "code",
   "execution_count": 19,
   "metadata": {},
   "outputs": [],
   "source": [
    "json.dump(texts, open('wikipedia_10pages.json', 'wt',encoding='utf-8'))"
   ]
  }
 ],
 "metadata": {
  "kernelspec": {
   "display_name": "notebook",
   "language": "python",
   "name": "python3"
  },
  "language_info": {
   "codemirror_mode": {
    "name": "ipython",
    "version": 3
   },
   "file_extension": ".py",
   "mimetype": "text/x-python",
   "name": "python",
   "nbconvert_exporter": "python",
   "pygments_lexer": "ipython3",
   "version": "3.11.2"
  }
 },
 "nbformat": 4,
 "nbformat_minor": 2
}
